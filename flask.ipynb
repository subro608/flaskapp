{
  "cells": [
    {
      "cell_type": "code",
      "execution_count": null,
      "metadata": {
        "colab": {
          "base_uri": "https://localhost:8080/"
        },
        "id": "XaDcT2ZGGD1o",
        "outputId": "6e1cf7ab-d935-40ff-e0a8-74ced765eb02"
      },
      "outputs": [
        {
          "name": "stdout",
          "output_type": "stream",
          "text": [
            "Requirement already satisfied: Flask in /usr/local/lib/python3.7/dist-packages (1.1.4)\n",
            "Requirement already satisfied: Jinja2<3.0,>=2.10.1 in /usr/local/lib/python3.7/dist-packages (from Flask) (2.11.3)\n",
            "Requirement already satisfied: click<8.0,>=5.1 in /usr/local/lib/python3.7/dist-packages (from Flask) (7.1.2)\n",
            "Requirement already satisfied: itsdangerous<2.0,>=0.24 in /usr/local/lib/python3.7/dist-packages (from Flask) (1.1.0)\n",
            "Requirement already satisfied: Werkzeug<2.0,>=0.15 in /usr/local/lib/python3.7/dist-packages (from Flask) (1.0.1)\n",
            "Requirement already satisfied: MarkupSafe>=0.23 in /usr/local/lib/python3.7/dist-packages (from Jinja2<3.0,>=2.10.1->Flask) (2.0.1)\n"
          ]
        }
      ],
      "source": [
        "!pip install Flask"
      ]
    },
    {
      "cell_type": "code",
      "execution_count": null,
      "metadata": {
        "colab": {
          "base_uri": "https://localhost:8080/"
        },
        "id": "U7jr_E-vHA5x",
        "outputId": "73b5e8ce-cd43-4f3d-ac70-82e7fdcb67de"
      },
      "outputs": [
        {
          "name": "stdout",
          "output_type": "stream",
          "text": [
            "/content/DeepLearning-/ComputerVision/Deploy Image Classifier With Flask\n"
          ]
        }
      ],
      "source": [
        "!pwd"
      ]
    },
    {
      "cell_type": "code",
      "execution_count": null,
      "metadata": {
        "colab": {
          "base_uri": "https://localhost:8080/"
        },
        "id": "iLcpmhHQJM0Z",
        "outputId": "92aec6f0-9dd7-4771-824e-374ee3d41c62"
      },
      "outputs": [
        {
          "name": "stdout",
          "output_type": "stream",
          "text": [
            "Collecting flask-ngrok\n",
            "  Downloading flask_ngrok-0.0.25-py3-none-any.whl (3.1 kB)\n",
            "Requirement already satisfied: Flask>=0.8 in /usr/local/lib/python3.7/dist-packages (from flask-ngrok) (1.1.4)\n",
            "Requirement already satisfied: requests in /usr/local/lib/python3.7/dist-packages (from flask-ngrok) (2.23.0)\n",
            "Requirement already satisfied: Jinja2<3.0,>=2.10.1 in /usr/local/lib/python3.7/dist-packages (from Flask>=0.8->flask-ngrok) (2.11.3)\n",
            "Requirement already satisfied: itsdangerous<2.0,>=0.24 in /usr/local/lib/python3.7/dist-packages (from Flask>=0.8->flask-ngrok) (1.1.0)\n",
            "Requirement already satisfied: Werkzeug<2.0,>=0.15 in /usr/local/lib/python3.7/dist-packages (from Flask>=0.8->flask-ngrok) (1.0.1)\n",
            "Requirement already satisfied: click<8.0,>=5.1 in /usr/local/lib/python3.7/dist-packages (from Flask>=0.8->flask-ngrok) (7.1.2)\n",
            "Requirement already satisfied: MarkupSafe>=0.23 in /usr/local/lib/python3.7/dist-packages (from Jinja2<3.0,>=2.10.1->Flask>=0.8->flask-ngrok) (2.0.1)\n",
            "Requirement already satisfied: urllib3!=1.25.0,!=1.25.1,<1.26,>=1.21.1 in /usr/local/lib/python3.7/dist-packages (from requests->flask-ngrok) (1.24.3)\n",
            "Requirement already satisfied: certifi>=2017.4.17 in /usr/local/lib/python3.7/dist-packages (from requests->flask-ngrok) (2021.10.8)\n",
            "Requirement already satisfied: idna<3,>=2.5 in /usr/local/lib/python3.7/dist-packages (from requests->flask-ngrok) (2.10)\n",
            "Requirement already satisfied: chardet<4,>=3.0.2 in /usr/local/lib/python3.7/dist-packages (from requests->flask-ngrok) (3.0.4)\n",
            "Installing collected packages: flask-ngrok\n",
            "Successfully installed flask-ngrok-0.0.25\n"
          ]
        }
      ],
      "source": [
        "!pip install flask-ngrok"
      ]
    },
    {
      "cell_type": "code",
      "execution_count": null,
      "metadata": {
        "colab": {
          "base_uri": "https://localhost:8080/"
        },
        "id": "WuCl11C8k6BD",
        "outputId": "cc90625b-b112-48fb-ae00-bc99c868a8b1"
      },
      "outputs": [
        {
          "name": "stdout",
          "output_type": "stream",
          "text": [
            "Mounted at /content/drive\n"
          ]
        }
      ],
      "source": [
        "from google.colab import drive\n",
        "drive.mount('/content/drive')"
      ]
    },
    {
      "cell_type": "code",
      "execution_count": null,
      "metadata": {
        "colab": {
          "base_uri": "https://localhost:8080/"
        },
        "id": "WfEt_hHgHBBV",
        "outputId": "acec47d5-7d78-49cf-fb8c-38512f9a79a2"
      },
      "outputs": [
        {
          "name": "stdout",
          "output_type": "stream",
          "text": [
            "Collecting pyngrok\n",
            "  Downloading pyngrok-5.1.0.tar.gz (745 kB)\n",
            "\u001b[?25l\r\u001b[K     |▍                               | 10 kB 19.0 MB/s eta 0:00:01\r\u001b[K     |▉                               | 20 kB 26.0 MB/s eta 0:00:01\r\u001b[K     |█▎                              | 30 kB 30.1 MB/s eta 0:00:01\r\u001b[K     |█▊                              | 40 kB 28.3 MB/s eta 0:00:01\r\u001b[K     |██▏                             | 51 kB 20.5 MB/s eta 0:00:01\r\u001b[K     |██▋                             | 61 kB 23.0 MB/s eta 0:00:01\r\u001b[K     |███                             | 71 kB 22.1 MB/s eta 0:00:01\r\u001b[K     |███▌                            | 81 kB 23.7 MB/s eta 0:00:01\r\u001b[K     |████                            | 92 kB 25.7 MB/s eta 0:00:01\r\u001b[K     |████▍                           | 102 kB 26.1 MB/s eta 0:00:01\r\u001b[K     |████▉                           | 112 kB 26.1 MB/s eta 0:00:01\r\u001b[K     |█████▎                          | 122 kB 26.1 MB/s eta 0:00:01\r\u001b[K     |█████▊                          | 133 kB 26.1 MB/s eta 0:00:01\r\u001b[K     |██████▏                         | 143 kB 26.1 MB/s eta 0:00:01\r\u001b[K     |██████▋                         | 153 kB 26.1 MB/s eta 0:00:01\r\u001b[K     |███████                         | 163 kB 26.1 MB/s eta 0:00:01\r\u001b[K     |███████▌                        | 174 kB 26.1 MB/s eta 0:00:01\r\u001b[K     |████████                        | 184 kB 26.1 MB/s eta 0:00:01\r\u001b[K     |████████▍                       | 194 kB 26.1 MB/s eta 0:00:01\r\u001b[K     |████████▉                       | 204 kB 26.1 MB/s eta 0:00:01\r\u001b[K     |█████████▎                      | 215 kB 26.1 MB/s eta 0:00:01\r\u001b[K     |█████████▊                      | 225 kB 26.1 MB/s eta 0:00:01\r\u001b[K     |██████████▏                     | 235 kB 26.1 MB/s eta 0:00:01\r\u001b[K     |██████████▌                     | 245 kB 26.1 MB/s eta 0:00:01\r\u001b[K     |███████████                     | 256 kB 26.1 MB/s eta 0:00:01\r\u001b[K     |███████████▍                    | 266 kB 26.1 MB/s eta 0:00:01\r\u001b[K     |███████████▉                    | 276 kB 26.1 MB/s eta 0:00:01\r\u001b[K     |████████████▎                   | 286 kB 26.1 MB/s eta 0:00:01\r\u001b[K     |████████████▊                   | 296 kB 26.1 MB/s eta 0:00:01\r\u001b[K     |█████████████▏                  | 307 kB 26.1 MB/s eta 0:00:01\r\u001b[K     |█████████████▋                  | 317 kB 26.1 MB/s eta 0:00:01\r\u001b[K     |██████████████                  | 327 kB 26.1 MB/s eta 0:00:01\r\u001b[K     |██████████████▌                 | 337 kB 26.1 MB/s eta 0:00:01\r\u001b[K     |███████████████                 | 348 kB 26.1 MB/s eta 0:00:01\r\u001b[K     |███████████████▍                | 358 kB 26.1 MB/s eta 0:00:01\r\u001b[K     |███████████████▉                | 368 kB 26.1 MB/s eta 0:00:01\r\u001b[K     |████████████████▎               | 378 kB 26.1 MB/s eta 0:00:01\r\u001b[K     |████████████████▊               | 389 kB 26.1 MB/s eta 0:00:01\r\u001b[K     |█████████████████▏              | 399 kB 26.1 MB/s eta 0:00:01\r\u001b[K     |█████████████████▋              | 409 kB 26.1 MB/s eta 0:00:01\r\u001b[K     |██████████████████              | 419 kB 26.1 MB/s eta 0:00:01\r\u001b[K     |██████████████████▌             | 430 kB 26.1 MB/s eta 0:00:01\r\u001b[K     |███████████████████             | 440 kB 26.1 MB/s eta 0:00:01\r\u001b[K     |███████████████████▍            | 450 kB 26.1 MB/s eta 0:00:01\r\u001b[K     |███████████████████▉            | 460 kB 26.1 MB/s eta 0:00:01\r\u001b[K     |████████████████████▎           | 471 kB 26.1 MB/s eta 0:00:01\r\u001b[K     |████████████████████▋           | 481 kB 26.1 MB/s eta 0:00:01\r\u001b[K     |█████████████████████           | 491 kB 26.1 MB/s eta 0:00:01\r\u001b[K     |█████████████████████▌          | 501 kB 26.1 MB/s eta 0:00:01\r\u001b[K     |██████████████████████          | 512 kB 26.1 MB/s eta 0:00:01\r\u001b[K     |██████████████████████▍         | 522 kB 26.1 MB/s eta 0:00:01\r\u001b[K     |██████████████████████▉         | 532 kB 26.1 MB/s eta 0:00:01\r\u001b[K     |███████████████████████▎        | 542 kB 26.1 MB/s eta 0:00:01\r\u001b[K     |███████████████████████▊        | 552 kB 26.1 MB/s eta 0:00:01\r\u001b[K     |████████████████████████▏       | 563 kB 26.1 MB/s eta 0:00:01\r\u001b[K     |████████████████████████▋       | 573 kB 26.1 MB/s eta 0:00:01\r\u001b[K     |█████████████████████████       | 583 kB 26.1 MB/s eta 0:00:01\r\u001b[K     |█████████████████████████▌      | 593 kB 26.1 MB/s eta 0:00:01\r\u001b[K     |██████████████████████████      | 604 kB 26.1 MB/s eta 0:00:01\r\u001b[K     |██████████████████████████▍     | 614 kB 26.1 MB/s eta 0:00:01\r\u001b[K     |██████████████████████████▉     | 624 kB 26.1 MB/s eta 0:00:01\r\u001b[K     |███████████████████████████▎    | 634 kB 26.1 MB/s eta 0:00:01\r\u001b[K     |███████████████████████████▊    | 645 kB 26.1 MB/s eta 0:00:01\r\u001b[K     |████████████████████████████▏   | 655 kB 26.1 MB/s eta 0:00:01\r\u001b[K     |████████████████████████████▋   | 665 kB 26.1 MB/s eta 0:00:01\r\u001b[K     |█████████████████████████████   | 675 kB 26.1 MB/s eta 0:00:01\r\u001b[K     |█████████████████████████████▌  | 686 kB 26.1 MB/s eta 0:00:01\r\u001b[K     |██████████████████████████████  | 696 kB 26.1 MB/s eta 0:00:01\r\u001b[K     |██████████████████████████████▍ | 706 kB 26.1 MB/s eta 0:00:01\r\u001b[K     |██████████████████████████████▊ | 716 kB 26.1 MB/s eta 0:00:01\r\u001b[K     |███████████████████████████████▏| 727 kB 26.1 MB/s eta 0:00:01\r\u001b[K     |███████████████████████████████▋| 737 kB 26.1 MB/s eta 0:00:01\r\u001b[K     |████████████████████████████████| 745 kB 26.1 MB/s \n",
            "\u001b[?25hRequirement already satisfied: PyYAML in /usr/local/lib/python3.7/dist-packages (from pyngrok) (3.13)\n",
            "Building wheels for collected packages: pyngrok\n",
            "  Building wheel for pyngrok (setup.py) ... \u001b[?25l\u001b[?25hdone\n",
            "  Created wheel for pyngrok: filename=pyngrok-5.1.0-py3-none-any.whl size=19007 sha256=78f4842b594a2ff31419420cadee7461508d75c9cbb2a9ace2e383912863cf65\n",
            "  Stored in directory: /root/.cache/pip/wheels/bf/e6/af/ccf6598ecefecd44104069371795cb9b3afbcd16987f6ccfb3\n",
            "Successfully built pyngrok\n",
            "Installing collected packages: pyngrok\n",
            "Successfully installed pyngrok-5.1.0\n"
          ]
        }
      ],
      "source": [
        "!pip install pyngrok"
      ]
    },
    {
      "cell_type": "code",
      "execution_count": null,
      "metadata": {
        "colab": {
          "base_uri": "https://localhost:8080/"
        },
        "id": "Rg43Jxo8HBDk",
        "outputId": "499538dd-be02-47c2-894c-20aa118e849c"
      },
      "outputs": [
        {
          "name": "stdout",
          "output_type": "stream",
          "text": [
            "Authtoken saved to configuration file: /root/.ngrok2/ngrok.yml\n"
          ]
        }
      ],
      "source": [
        "!ngrok authtoken 25Nq46VRSHuIQHWW2v9KFxSHSuh_5WYQGLtohS6m41whJuG6f"
      ]
    },
    {
      "cell_type": "code",
      "execution_count": null,
      "metadata": {
        "colab": {
          "base_uri": "https://localhost:8080/"
        },
        "id": "nklQg0ZtHBGD",
        "outputId": "26f5e6f6-bafc-440c-b700-f19ed65d7f43"
      },
      "outputs": [
        {
          "name": "stdout",
          "output_type": "stream",
          "text": [
            "Collecting Flask-SQLAlchemy\n",
            "  Downloading Flask_SQLAlchemy-2.5.1-py2.py3-none-any.whl (17 kB)\n",
            "Requirement already satisfied: SQLAlchemy>=0.8.0 in /usr/local/lib/python3.7/dist-packages (from Flask-SQLAlchemy) (1.4.31)\n",
            "Requirement already satisfied: Flask>=0.10 in /usr/local/lib/python3.7/dist-packages (from Flask-SQLAlchemy) (1.1.4)\n",
            "Requirement already satisfied: Werkzeug<2.0,>=0.15 in /usr/local/lib/python3.7/dist-packages (from Flask>=0.10->Flask-SQLAlchemy) (1.0.1)\n",
            "Requirement already satisfied: Jinja2<3.0,>=2.10.1 in /usr/local/lib/python3.7/dist-packages (from Flask>=0.10->Flask-SQLAlchemy) (2.11.3)\n",
            "Requirement already satisfied: itsdangerous<2.0,>=0.24 in /usr/local/lib/python3.7/dist-packages (from Flask>=0.10->Flask-SQLAlchemy) (1.1.0)\n",
            "Requirement already satisfied: click<8.0,>=5.1 in /usr/local/lib/python3.7/dist-packages (from Flask>=0.10->Flask-SQLAlchemy) (7.1.2)\n",
            "Requirement already satisfied: MarkupSafe>=0.23 in /usr/local/lib/python3.7/dist-packages (from Jinja2<3.0,>=2.10.1->Flask>=0.10->Flask-SQLAlchemy) (2.0.1)\n",
            "Requirement already satisfied: greenlet!=0.4.17 in /usr/local/lib/python3.7/dist-packages (from SQLAlchemy>=0.8.0->Flask-SQLAlchemy) (1.1.2)\n",
            "Requirement already satisfied: importlib-metadata in /usr/local/lib/python3.7/dist-packages (from SQLAlchemy>=0.8.0->Flask-SQLAlchemy) (4.11.1)\n",
            "Requirement already satisfied: typing-extensions>=3.6.4 in /usr/local/lib/python3.7/dist-packages (from importlib-metadata->SQLAlchemy>=0.8.0->Flask-SQLAlchemy) (3.10.0.2)\n",
            "Requirement already satisfied: zipp>=0.5 in /usr/local/lib/python3.7/dist-packages (from importlib-metadata->SQLAlchemy>=0.8.0->Flask-SQLAlchemy) (3.7.0)\n",
            "Installing collected packages: Flask-SQLAlchemy\n",
            "Successfully installed Flask-SQLAlchemy-2.5.1\n"
          ]
        }
      ],
      "source": [
        "!pip install Flask-SQLAlchemy"
      ]
    },
    {
      "cell_type": "code",
      "execution_count": null,
      "metadata": {
        "colab": {
          "base_uri": "https://localhost:8080/"
        },
        "id": "4ucYRjFNme7M",
        "outputId": "92d304ac-9343-4778-db4c-fbf990299755"
      },
      "outputs": [
        {
          "name": "stdout",
          "output_type": "stream",
          "text": [
            "/content\n"
          ]
        }
      ],
      "source": [
        "cd /content/"
      ]
    },
    {
      "cell_type": "code",
      "execution_count": null,
      "metadata": {
        "colab": {
          "base_uri": "https://localhost:8080/"
        },
        "id": "vS7v28waHBIY",
        "outputId": "2bbc7c9e-412b-4f64-b8fd-98df91fde272"
      },
      "outputs": [
        {
          "name": "stderr",
          "output_type": "stream",
          "text": [
            "/usr/local/lib/python3.7/dist-packages/flask_sqlalchemy/__init__.py:873: FSADeprecationWarning: SQLALCHEMY_TRACK_MODIFICATIONS adds significant overhead and will be disabled by default in the future.  Set it to True or False to suppress this warning.\n",
            "  'SQLALCHEMY_TRACK_MODIFICATIONS adds significant overhead and '\n"
          ]
        }
      ],
      "source": [
        "from app import db"
      ]
    },
    {
      "cell_type": "code",
      "execution_count": null,
      "metadata": {
        "id": "GXmd6bO9j52Q"
      },
      "outputs": [],
      "source": [
        "db.create_all()"
      ]
    },
    {
      "cell_type": "code",
      "execution_count": null,
      "metadata": {
        "id": "HU46qG_1HA8I"
      },
      "outputs": [],
      "source": [
        "!python app.py"
      ]
    },
    {
      "cell_type": "code",
      "execution_count": null,
      "metadata": {
        "colab": {
          "base_uri": "https://localhost:8080/"
        },
        "id": "6nc3dTY80xOj",
        "outputId": "287aae75-27ca-4261-f9c7-48640a0764ee"
      },
      "outputs": [
        {
          "name": "stdout",
          "output_type": "stream",
          "text": [
            "Requirement already satisfied: gunicorn in /usr/local/lib/python3.7/dist-packages (20.1.0)\n",
            "Requirement already satisfied: setuptools>=3.0 in /usr/local/lib/python3.7/dist-packages (from gunicorn) (57.4.0)\n"
          ]
        }
      ],
      "source": [
        "!pip install gunicorn"
      ]
    },
    {
      "cell_type": "code",
      "execution_count": null,
      "metadata": {
        "id": "UbK6XgL31U49"
      },
      "outputs": [],
      "source": [
        "pip freeze > requirements.txt"
      ]
    },
    {
      "cell_type": "code",
      "execution_count": null,
      "metadata": {
        "id": "2LnZK9PFi5OZ"
      },
      "outputs": [],
      "source": [
        "!web: gunicorn app:app"
      ]
    },
    {
      "cell_type": "code",
      "execution_count": null,
      "metadata": {
        "id": "F2MUnDVN_zya"
      },
      "outputs": [],
      "source": [
        "!pip install pipreqs"
      ]
    },
    {
      "cell_type": "code",
      "execution_count": null,
      "metadata": {
        "id": "a8QtvRJI_1J0"
      },
      "outputs": [],
      "source": [
        "!pipreqs /content"
      ]
    },
    {
      "cell_type": "code",
      "execution_count": null,
      "metadata": {
        "id": "S1qbBQBrKu7e"
      },
      "outputs": [],
      "source": [
        "!pip install gevent"
      ]
    }
  ],
  "metadata": {
    "colab": {
      "collapsed_sections": [],
      "name": "flask",
      "provenance": []
    },
    "kernelspec": {
      "display_name": "Python 3",
      "name": "python3"
    },
    "language_info": {
      "name": "python"
    }
  },
  "nbformat": 4,
  "nbformat_minor": 0
}